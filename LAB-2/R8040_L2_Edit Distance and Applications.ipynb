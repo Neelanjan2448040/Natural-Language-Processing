{
 "cells": [
  {
   "cell_type": "markdown",
   "id": "9b6e1ceb",
   "metadata": {},
   "source": [
    "# LAB 2: Edit Distance and Applications"
   ]
  },
  {
   "cell_type": "markdown",
   "id": "ec8f8bb7",
   "metadata": {},
   "source": [
    "# NAME: NEELANJAN DUTTA"
   ]
  },
  {
   "cell_type": "markdown",
   "id": "9a06870b",
   "metadata": {},
   "source": [
    "# REGISTER NUMBER: 2448040"
   ]
  },
  {
   "cell_type": "markdown",
   "id": "d1d7c564",
   "metadata": {},
   "source": [
    "# Question 2"
   ]
  },
  {
   "cell_type": "markdown",
   "id": "b8c61db6",
   "metadata": {},
   "source": [
    "2.6 Implement a minimum edit distance algorithm and use your hand-computed results to check your code. <br>\n",
    "str1 = \"leda\" <br>\n",
    "str2 = \"deal\" <br>\n",
    "distance = levenshtein_distance(str1, str2) <br>\n",
    "print(f\"The edit distance between '{str1}' and '{str2}' is {distance}\") <br>"
   ]
  },
  {
   "cell_type": "markdown",
   "id": "9462424a",
   "metadata": {},
   "source": [
    "### Answer:"
   ]
  },
  {
   "cell_type": "code",
   "execution_count": 1,
   "id": "757d1497",
   "metadata": {},
   "outputs": [
    {
     "name": "stdout",
     "output_type": "stream",
     "text": [
      "Enter the first string: leda\n",
      "Enter the second string: deal\n",
      "\n",
      "Edit Distance Matrix:\n",
      "      d  e  a  l\n",
      "    0  1  2  3  4\n",
      "l   1  1  2  3  3\n",
      "e   2  2  1  2  3\n",
      "d   3  2  2  2  3\n",
      "a   4  3  3  2  3\n",
      "\n",
      "The edit distance between 'leda' and 'deal' is: 3\n"
     ]
    }
   ],
   "source": [
    "# Levenshtein Distance (Minimum Edit Distance)\n",
    "\n",
    "#Defining the function to compute edit distance\n",
    "def levenshtein_distance(str1, str2):\n",
    "    m = len(str1)\n",
    "    n = len(str2)\n",
    "\n",
    "    #Creating a (m+1) x (n+1) matrix\n",
    "    dp = []\n",
    "    for i in range(m + 1):\n",
    "        row = []\n",
    "        for j in range(n + 1):\n",
    "            row.append(0)\n",
    "        dp.append(row)\n",
    "\n",
    "    #Initializing first row and column\n",
    "    for i in range(m + 1):\n",
    "        dp[i][0] = i\n",
    "    for j in range(n + 1):\n",
    "        dp[0][j] = j\n",
    "\n",
    "    #Filling the matrix using edit distance rules\n",
    "    for i in range(1, m + 1):\n",
    "        for j in range(1, n + 1):\n",
    "            if str1[i - 1] == str2[j - 1]:\n",
    "                cost = 0 #No cost if characters matches\n",
    "            else:\n",
    "                cost = 1 #Cost of 1 if charaters do not match\n",
    "\n",
    "            deletion = dp[i - 1][j] + 1\n",
    "            insertion = dp[i][j - 1] + 1\n",
    "            substitution = dp[i - 1][j - 1] + cost\n",
    "\n",
    "            dp[i][j] = min(deletion, insertion, substitution)\n",
    "\n",
    "    #Edit distance matrix\n",
    "    print(\"\\nEdit Distance Matrix:\")\n",
    "    print(\"    \", end=\"\")\n",
    "    for ch in str2:\n",
    "        print(f\"{ch:>3}\", end=\"\")\n",
    "    print()\n",
    "    for i in range(m + 1):\n",
    "        if i == 0:\n",
    "            print(\" \", end=\" \")\n",
    "        else:\n",
    "            print(str1[i - 1], end=\" \")\n",
    "        for j in range(n + 1):\n",
    "            print(f\"{dp[i][j]:>3}\", end=\"\")\n",
    "        print()\n",
    "\n",
    "    #Final edit distance\n",
    "    return dp[m][n]\n",
    "\n",
    "#Give input to get the distance\n",
    "str1 = input(\"Enter the first string: \")\n",
    "str2 = input(\"Enter the second string: \")\n",
    "\n",
    "distance = levenshtein_distance(str1, str2)\n",
    "print(\"\\nThe edit distance between '{}' and '{}' is: {}\".format(str1, str2, distance))"
   ]
  },
  {
   "cell_type": "markdown",
   "id": "ad4f60e9",
   "metadata": {},
   "source": [
    "# Question 3"
   ]
  },
  {
   "cell_type": "markdown",
   "id": "9d61446a",
   "metadata": {},
   "source": [
    "Write a program to align the given sequence of input text A and B <br>\n",
    "Input:<br>\n",
    "Text A: AGGCTATCACCTGACCTCCAGGCCGATGCCC <br>\n",
    "Text B: TAGCTATCACGACCGCGGTCGATTTGCCCGAC <br>\n",
    "Output: <br>\n",
    "-AGGCTATCACCTGACCTCCAGGCCGA--TGCCC--- <br>\n",
    "TAG-CTATCAC--GACCGC--GGTCGATTTGCCCGAC <br>"
   ]
  },
  {
   "cell_type": "markdown",
   "id": "925aec21",
   "metadata": {},
   "source": [
    "### Answer:"
   ]
  },
  {
   "cell_type": "code",
   "execution_count": 5,
   "id": "3b9c7601",
   "metadata": {},
   "outputs": [
    {
     "name": "stdout",
     "output_type": "stream",
     "text": [
      "enter first string: leda\n",
      "enter second string: deal\n",
      "leda\n",
      "deal\n"
     ]
    }
   ],
   "source": [
    "def align_sequences(A, B):\n",
    "    n = len(A)\n",
    "    m = len(B)\n",
    "\n",
    "    # Create a DP table\n",
    "    dp = [[0 for _ in range(m + 1)] for _ in range(n + 1)]\n",
    "\n",
    "    # Initialize base cases\n",
    "    for i in range(n + 1):\n",
    "        dp[i][0] = i  # all deletions\n",
    "    for j in range(m + 1):\n",
    "        dp[0][j] = j  # all insertions\n",
    "\n",
    "    # Fill the DP table\n",
    "    for i in range(1, n + 1):\n",
    "        for j in range(1, m + 1):\n",
    "            if A[i - 1] == B[j - 1]:\n",
    "                cost = 0\n",
    "            else:\n",
    "                cost = 1\n",
    "            dp[i][j] = min(\n",
    "                dp[i - 1][j] + 1,        # deletion\n",
    "                dp[i][j - 1] + 1,        # insertion\n",
    "                dp[i - 1][j - 1] + cost  # substitution/match\n",
    "            )\n",
    "\n",
    "    # Backtrace to build aligned strings\n",
    "    aligned_A = []\n",
    "    aligned_B = []\n",
    "\n",
    "    i, j = n, m\n",
    "    while i > 0 and j > 0:\n",
    "        if A[i - 1] == B[j - 1] or dp[i][j] == dp[i - 1][j - 1] + 1:\n",
    "            # Match or substitution\n",
    "            aligned_A.append(A[i - 1])\n",
    "            aligned_B.append(B[j - 1])\n",
    "            i -= 1\n",
    "            j -= 1\n",
    "        elif dp[i][j] == dp[i - 1][j] + 1:\n",
    "            # Deletion (gap in B)\n",
    "            aligned_A.append(A[i - 1])\n",
    "            aligned_B.append('-')\n",
    "            i -= 1\n",
    "        else:\n",
    "            # Insertion (gap in A)\n",
    "            aligned_A.append('-')\n",
    "            aligned_B.append(B[j - 1])\n",
    "            j -= 1\n",
    "\n",
    "    # Fill remaining gaps if any\n",
    "    while i > 0:\n",
    "        aligned_A.append(A[i - 1])\n",
    "        aligned_B.append('-')\n",
    "        i -= 1\n",
    "    while j > 0:\n",
    "        aligned_A.append('-')\n",
    "        aligned_B.append(B[j - 1])\n",
    "        j -= 1\n",
    "\n",
    "    # Reverse both sequences to get final alignment\n",
    "    aligned_A.reverse()\n",
    "    aligned_B.reverse()\n",
    "\n",
    "    # Join as strings\n",
    "    return ''.join(aligned_A), ''.join(aligned_B)\n",
    "\n",
    "# Example\n",
    "A = input(\"enter first string: \")\n",
    "B = input(\"enter second string: \")\n",
    "\n",
    "a_aligned, b_aligned = align_sequences(A, B)\n",
    "print(a_aligned)\n",
    "print(b_aligned)"
   ]
  }
 ],
 "metadata": {
  "kernelspec": {
   "display_name": "Python 3 (ipykernel)",
   "language": "python",
   "name": "python3"
  },
  "language_info": {
   "codemirror_mode": {
    "name": "ipython",
    "version": 3
   },
   "file_extension": ".py",
   "mimetype": "text/x-python",
   "name": "python",
   "nbconvert_exporter": "python",
   "pygments_lexer": "ipython3",
   "version": "3.11.5"
  }
 },
 "nbformat": 4,
 "nbformat_minor": 5
}
